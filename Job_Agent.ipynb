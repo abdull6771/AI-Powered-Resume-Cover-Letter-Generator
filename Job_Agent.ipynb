{
  "cells": [
    {
      "cell_type": "code",
      "execution_count": 1,
      "metadata": {
        "id": "qqBqOdgLcrPU"
      },
      "outputs": [],
      "source": [
        "%%capture\n",
        "!pip install langchain_openai\n",
        "!pip install gradio\n",
        "!pip install langgraph openai\n",
        "!pip install langchain-groq"
      ]
    },
    {
      "cell_type": "code",
      "execution_count": 2,
      "metadata": {
        "id": "d1YgBhv_cvjR"
      },
      "outputs": [],
      "source": [
        "from typing import Dict, TypedDict\n",
        "from langgraph.graph import StateGraph, END\n",
        "from langchain_core.prompts import ChatPromptTemplate\n",
        "from langchain_groq import ChatGroq\n",
        "\n",
        "from IPython.display import display, Image,Markdown\n",
        "from langchain_core.runnables.graph import MermaidDrawMethod\n",
        "import os\n",
        "os.environ[\"GROQ_API_KEY\"] = \"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\""
      ]
    },
    {
      "cell_type": "code",
      "execution_count": 3,
      "metadata": {
        "id": "c5-OYAyZcv0_"
      },
      "outputs": [],
      "source": [
        "llm = ChatGroq(\n",
        "    model=\"llama-3.1-8b-instant\",\n",
        "    temperature=0,\n",
        "    max_tokens=None,\n",
        "    timeout=None,\n",
        "    max_retries=2,\n",
        ")"
      ]
    },
    {
      "cell_type": "code",
      "execution_count": 4,
      "metadata": {
        "id": "5mwJumc3cv4H"
      },
      "outputs": [],
      "source": [
        "class ResumeState(TypedDict):\n",
        "    job_description: str\n",
        "    key_requirements: str\n",
        "    optimized_resume: str\n",
        "    cover_letter: str\n",
        "    final_review: str"
      ]
    },
    {
      "cell_type": "code",
      "execution_count": 5,
      "metadata": {
        "id": "HBkC8mAocv7N"
      },
      "outputs": [],
      "source": [
        "def job_analysis_agent(state: ResumeState):\n",
        "    prompt = ChatPromptTemplate.from_template(\n",
        "        \"\"\"You are a job application expert. Extract key requirements, skills, and keywords from the job description.\n",
        "        Job Description: {job_description}\n",
        "        Provide a structured breakdown of required skills, qualifications, and keywords.\"\"\"\n",
        "    )\n",
        "    chain = prompt | llm\n",
        "    response = chain.invoke({\"job_description\": state[\"job_description\"]}).content\n",
        "    return {\"key_requirements\": response}\n"
      ]
    },
    {
      "cell_type": "code",
      "execution_count": 6,
      "metadata": {
        "id": "t7HxFRyHcv-G"
      },
      "outputs": [],
      "source": [
        "def resume_optimization_agent(state: ResumeState):\n",
        "    prompt = ChatPromptTemplate.from_template(\n",
        "        \"\"\"You are a professional resume writer. Based on the job description and extracted keywords,\n",
        "        optimize the candidate's resume to highlight relevant skills and experience.\n",
        "        Key Requirements: {key_requirements}\n",
        "        Provide an improved resume that aligns with the job requirements.\"\"\"\n",
        "    )\n",
        "    chain = prompt | llm\n",
        "    response = chain.invoke({\"key_requirements\": state[\"key_requirements\"]}).content\n",
        "    return {\"optimized_resume\": response}\n"
      ]
    },
    {
      "cell_type": "code",
      "execution_count": 7,
      "metadata": {
        "id": "Dhz4neKNcwAN"
      },
      "outputs": [],
      "source": [
        "def resume_optimization_agent(state: ResumeState):\n",
        "    prompt = ChatPromptTemplate.from_template(\n",
        "        \"\"\"You are a professional resume writer. Based on the job description and extracted keywords,\n",
        "        optimize the candidate's resume to highlight relevant skills and experience.\n",
        "        Key Requirements: {key_requirements}\n",
        "        Provide an improved resume that aligns with the job requirements.\"\"\"\n",
        "    )\n",
        "    chain = prompt | llm\n",
        "    response = chain.invoke({\"key_requirements\": state[\"key_requirements\"]}).content\n",
        "    return {\"optimized_resume\": response}\n"
      ]
    },
    {
      "cell_type": "code",
      "execution_count": 8,
      "metadata": {
        "id": "RRdeaLQcdz9x"
      },
      "outputs": [],
      "source": [
        "def cover_letter_agent(state: ResumeState):\n",
        "    prompt = ChatPromptTemplate.from_template(\n",
        "        \"\"\"You are a cover letter expert. Write a compelling cover letter tailored to the job description.\n",
        "        Optimized Resume: {optimized_resume}\n",
        "        Job Description: {job_description}\n",
        "        Ensure the letter is professional, engaging, and highlights the candidate's fit for the role.\"\"\"\n",
        "    )\n",
        "    chain = prompt | llm\n",
        "    response = chain.invoke({\"optimized_resume\": state[\"optimized_resume\"], \"job_description\": state[\"job_description\"]}).content\n",
        "    return {\"cover_letter\": response}\n"
      ]
    },
    {
      "cell_type": "code",
      "execution_count": 9,
      "metadata": {
        "id": "cHWRTiordmIk"
      },
      "outputs": [],
      "source": [
        "def final_review_agent(state: ResumeState):\n",
        "    prompt = ChatPromptTemplate.from_template(\n",
        "        \"\"\"You are a resume consultant. Perform a final review of the resume and cover letter.\n",
        "        Optimized Resume: {optimized_resume}\n",
        "        Cover Letter: {cover_letter}\n",
        "        Ensure consistency, readability, and professionalism. Provide any final recommendations.\"\"\"\n",
        "    )\n",
        "    chain = prompt | llm\n",
        "    response = chain.invoke({\"optimized_resume\": state[\"optimized_resume\"], \"cover_letter\": state[\"cover_letter\"]}).content\n",
        "    return {\"final_review\": response}\n"
      ]
    },
    {
      "cell_type": "code",
      "execution_count": 10,
      "metadata": {
        "id": "KhBV_6yZdqq3"
      },
      "outputs": [],
      "source": [
        "graph = StateGraph(ResumeState)\n",
        "\n",
        "graph.add_node(\"job_analysis_agent\", job_analysis_agent)\n",
        "graph.add_node(\"resume_optimization_agent\", resume_optimization_agent)\n",
        "graph.add_node(\"cover_letter_agent\", cover_letter_agent)\n",
        "graph.add_node(\"final_review_agent\", final_review_agent)\n",
        "\n",
        "graph.set_entry_point(\"job_analysis_agent\")\n",
        "\n",
        "graph.add_edge(\"job_analysis_agent\", \"resume_optimization_agent\")\n",
        "graph.add_edge(\"resume_optimization_agent\", \"cover_letter_agent\")\n",
        "graph.add_edge(\"cover_letter_agent\", \"final_review_agent\")\n",
        "graph.add_edge(\"final_review_agent\", END)\n",
        "\n",
        "graph = graph.compile()\n"
      ]
    },
    {
      "cell_type": "code",
      "execution_count": 11,
      "metadata": {
        "colab": {
          "base_uri": "https://localhost:8080/",
          "height": 548
        },
        "id": "2tqMqBZTeCCf",
        "outputId": "2f4ee96e-aeb5-43c1-cd60-17bf7607b329"
      },
      "outputs": [
        {
          "output_type": "display_data",
          "data": {
            "image/png": "[encoded data removed]",
            "text/plain": [
              "<IPython.core.display.Image object>"
            ]
          },
          "metadata": {}
        }
      ],
      "source": [
        "display(\n",
        "    Image(\n",
        "        graph.get_graph().draw_mermaid_png(\n",
        "            draw_method=MermaidDrawMethod.API,\n",
        "        )\n",
        "    )\n",
        ")"
      ]
    },
    {
      "cell_type": "code",
      "execution_count": 14,
      "metadata": {
        "id": "czFmGXfuejsu"
      },
      "outputs": [],
      "source": [
        "job_description = \"XYZ Tech Solutions is seeking a Machine Learning Engineer to design, develop, and deploy cutting-edge AI models for real-world applications. The ideal candidate should have experience in deep learning, natural language processing (NLP), and cloud-based model deployment. my name is Abdullahi Ahmad from Jigawa State Nigeria use today date\""
      ]
    },
    {
      "cell_type": "code",
      "execution_count": 15,
      "metadata": {
        "id": "4naURfMoeq6V"
      },
      "outputs": [],
      "source": [
        "result = graph.invoke({\"job_description\": job_description})"
      ]
    },
    {
      "cell_type": "code",
      "source": [
        "Markdown(result['key_requirements'])"
      ],
      "metadata": {
        "colab": {
          "base_uri": "https://localhost:8080/",
          "height": 1000
        },
        "id": "FsqpoPLfDUWY",
        "outputId": "a3bc814f-6bde-41dc-fb17-d9336b7d58b9"
      },
      "execution_count": 17,
      "outputs": [
        {
          "output_type": "execute_result",
          "data": {
            "text/plain": [
              "<IPython.core.display.Markdown object>"
            ],
            "text/markdown": "**Job Title:** Machine Learning Engineer\n**Company:** XYZ Tech Solutions\n**Date:** 28 March 2024\n\n**Structured Breakdown of Required Skills, Qualifications, and Keywords:**\n\n**Essential Skills:**\n\n1. **Machine Learning:**\n\t* Deep learning\n\t* Natural Language Processing (NLP)\n2. **Cloud-based Deployment:**\n\t* Cloud-based model deployment\n3. **Programming Languages:**\n\t* Not specified, but likely Python or R\n4. **Software Development:**\n\t* Design, development, and deployment of AI models\n5. **Data Analysis:**\n\t* Not specified, but likely experience with data preprocessing and feature engineering\n\n**Desirable Skills:**\n\n1. **Cloud Platforms:**\n\t* Experience with cloud platforms such as AWS, Azure, or Google Cloud\n2. **Data Storage:**\n\t* Experience with data storage solutions such as databases or data warehouses\n3. **Collaboration Tools:**\n\t* Experience with collaboration tools such as Git, Jira, or Asana\n4. **Communication:**\n\t* Strong communication and presentation skills\n\n**Qualifications:**\n\n1. **Education:**\n\t* Bachelor's or Master's degree in Computer Science, Machine Learning, or related field\n2. **Experience:**\n\t* 2-5 years of experience in machine learning engineering or related field\n\n**Keywords:**\n\n1. Machine Learning\n2. Deep Learning\n3. Natural Language Processing (NLP)\n4. Cloud-based Deployment\n5. AI Models\n6. Data Analysis\n7. Data Preprocessing\n8. Feature Engineering\n9. Cloud Platforms (AWS, Azure, Google Cloud)\n10. Data Storage (databases, data warehouses)\n11. Collaboration Tools (Git, Jira, Asana)\n12. Communication\n\n**Actionable Tips for Abdullahi Ahmad:**\n\n1. Review and update your resume to highlight your experience in machine learning, deep learning, and NLP.\n2. Familiarize yourself with cloud-based deployment and data storage solutions.\n3. Practice your communication and presentation skills to effectively convey your ideas and solutions.\n4. Consider taking online courses or certifications to enhance your skills in machine learning and cloud-based deployment.\n5. Network with professionals in the field to learn more about the industry and best practices."
          },
          "metadata": {},
          "execution_count": 17
        }
      ]
    },
    {
      "cell_type": "code",
      "source": [
        "Markdown(result['optimized_resume'])"
      ],
      "metadata": {
        "colab": {
          "base_uri": "https://localhost:8080/",
          "height": 880
        },
        "id": "WlSE7CDpEW4g",
        "outputId": "80d4937f-4285-49b9-bd08-6ed648ab4f17"
      },
      "execution_count": 19,
      "outputs": [
        {
          "output_type": "execute_result",
          "data": {
            "text/plain": [
              "<IPython.core.display.Markdown object>"
            ],
            "text/markdown": "**Abdullahi Ahmad**\n**Machine Learning Engineer**\n\n**Contact Information:**\n\n- Email: [abdullahi.ahmad@email.com](mailto:abdullahi.ahmad@email.com)\n- Phone: 123-456-7890\n- LinkedIn: linkedin.com/in/abdullahi-ahmad\n\n**Summary:**\nHighly motivated and experienced Machine Learning Engineer with 3 years of experience in designing, developing, and deploying AI models using deep learning and NLP techniques. Proficient in cloud-based deployment and data analysis. Strong communication and presentation skills with experience in collaboration tools.\n\n**Technical Skills:**\n\n- **Machine Learning:**\n  - Deep Learning (TensorFlow, Keras)\n  - Natural Language Processing (NLP) (NLTK, spaCy)\n- **Cloud-based Deployment:**\n  - Cloud-based model deployment (AWS, Google Cloud)\n- **Programming Languages:**\n  - Python (NumPy, pandas, scikit-learn)\n  - R (for data analysis and visualization)\n- **Software Development:**\n  - Design, development, and deployment of AI models\n- **Data Analysis:**\n  - Data preprocessing (handling missing values, data normalization)\n  - Feature engineering (dimensionality reduction, feature selection)\n\n**Professional Experience:**\n\n**Machine Learning Engineer, ABC Corporation (2020-Present)**\n\n- Designed and developed AI models using deep learning and NLP techniques for text classification and sentiment analysis tasks\n- Deployed models on cloud platforms (AWS, Google Cloud) for scalability and reliability\n- Collaborated with cross-functional teams to integrate AI models into existing software applications\n- Conducted data analysis and feature engineering to improve model performance\n- Presented project results and recommendations to stakeholders using effective communication and presentation skills\n\n**Machine Learning Engineer, DEF Startups (2018-2020)**\n\n- Developed and deployed AI models using R and Python for data analysis and visualization tasks\n- Worked with data storage solutions (databases, data warehouses) to store and retrieve data\n- Utilized collaboration tools (Git, Jira) to manage projects and track progress\n- Contributed to the development of AI-powered chatbots using NLP techniques\n\n**Education:**\n\n- **Master of Science in Computer Science, XYZ University (2018)**\n- **Bachelor of Science in Computer Science, ABC University (2016)**\n\n**Certifications:**\n\n- **Certified Machine Learning Engineer, Machine Learning Council (2020)**\n- **Certified Data Scientist, Data Science Council (2019)**\n\n**References:**\nAvailable upon request."
          },
          "metadata": {},
          "execution_count": 19
        }
      ]
    },
    {
      "cell_type": "code",
      "source": [
        "Markdown(result['cover_letter'])"
      ],
      "metadata": {
        "colab": {
          "base_uri": "https://localhost:8080/",
          "height": 498
        },
        "id": "BqbRJxgbEtoS",
        "outputId": "85443639-6cc7-4de4-f5fb-e99c55e2f028"
      },
      "execution_count": 20,
      "outputs": [
        {
          "output_type": "execute_result",
          "data": {
            "text/plain": [
              "<IPython.core.display.Markdown object>"
            ],
            "text/markdown": "[Today's Date: 28 March 2024]\n\n[Your Address: Jigawa State, Nigeria]\n\n[Email: [abdullahi.ahmad@email.com](mailto:abdullahi.ahmad@email.com)]\n[Phone: 123-456-7890]\n[LinkedIn: linkedin.com/in/abdullahi-ahmad]\n\n[Recipient's Name]\n[Recipient's Title]\nXYZ Tech Solutions\n[Company Address]\n\nDear [Recipient's Name],\n\nI am writing to express my strong interest in the Machine Learning Engineer position at XYZ Tech Solutions. As a highly motivated and experienced Machine Learning Engineer with a proven track record of designing, developing, and deploying AI models using deep learning and NLP techniques, I am confident that I would be an excellent fit for this role.\n\nWith over 3 years of experience in the field, I have developed a strong foundation in machine learning, cloud-based deployment, and data analysis. My expertise in deep learning using TensorFlow and Keras, as well as NLP using NLTK and spaCy, has enabled me to tackle complex problems and deliver high-quality solutions. My experience in cloud-based model deployment using AWS and Google Cloud has also allowed me to deploy models at scale and ensure reliability.\n\nIn my current role as a Machine Learning Engineer at ABC Corporation, I have had the opportunity to work on various projects, including text classification and sentiment analysis tasks. I have successfully deployed models on cloud platforms, collaborated with cross-functional teams, and presented project results to stakeholders. My experience in data analysis and feature engineering has also enabled me to improve model performance and drive business value.\n\nI am particularly drawn to this role at XYZ Tech Solutions because of the company's commitment to innovation and excellence. I am impressed by the company's cutting-edge approach to AI and machine learning, and I am excited about the opportunity to contribute to the development of real-world applications.\n\nIn addition to my technical skills and experience, I possess strong communication and presentation skills, which have been essential in my previous roles. I have a proven track record of working effectively with cross-functional teams and presenting complex technical information to non-technical stakeholders.\n\nI am confident that my skills, experience, and passion for machine learning make me an ideal candidate for this role. I would welcome the opportunity to discuss my application and how I can contribute to the success of XYZ Tech Solutions.\n\nThank you for considering my application. I look forward to the opportunity to discuss this further.\n\nSincerely,\n\nAbdullahi Ahmad\nMachine Learning Engineer\n[abdullahi.ahmad@email.com](mailto:abdullahi.ahmad@email.com)\n123-456-7890\nlinkedin.com/in/abdullahi-ahmad"
          },
          "metadata": {},
          "execution_count": 20
        }
      ]
    },
    {
      "cell_type": "code",
      "source": [
        "Markdown(result['final_review'])"
      ],
      "metadata": {
        "colab": {
          "base_uri": "https://localhost:8080/",
          "height": 1000
        },
        "id": "Kad3f7NQE7_J",
        "outputId": "3c0a58dc-1c8e-41cb-ffc8-69f9118f9f16"
      },
      "execution_count": 21,
      "outputs": [
        {
          "output_type": "execute_result",
          "data": {
            "text/plain": [
              "<IPython.core.display.Markdown object>"
            ],
            "text/markdown": "**Final Review:**\n\nThe resume and cover letter are well-structured, and the content is clear and concise. However, there are a few minor suggestions to enhance consistency, readability, and professionalism:\n\n1. **Consistency in formatting:** Ensure that the formatting is consistent throughout the resume and cover letter. For example, the font size and style are the same, but the spacing between sections is not uniform.\n2. **Readability:** Use bullet points to break up large blocks of text and make the content more scannable. This is particularly useful in the Professional Experience section.\n3. **Professionalism:** Use a professional font, such as Arial, Calibri or Times New Roman, and avoid using fonts that are too ornate or difficult to read.\n4. **Action verbs:** Use action verbs, such as \"Designed,\" \"Developed,\" \"Deployed,\" and \"Improved,\" to describe your achievements in the Professional Experience section.\n5. **Quantifiable results:** Where possible, include quantifiable results to demonstrate the impact of your work. For example, \"Improved model accuracy by 25% through data analysis and feature engineering.\"\n6. **Cover letter:** The cover letter is well-written, but it could be more concise. Aim for a length of around 3-4 paragraphs.\n7. **References:** Consider adding a statement, such as \"References available upon request,\" to the resume to save space.\n\n**Final Recommendations:**\n\n1. **Use a standard font:** Use a standard font, such as Arial, Calibri or Times New Roman, throughout the resume and cover letter.\n2. **Use bullet points:** Use bullet points to break up large blocks of text and make the content more scannable.\n3. **Use action verbs:** Use action verbs, such as \"Designed,\" \"Developed,\" \"Deployed,\" and \"Improved,\" to describe your achievements in the Professional Experience section.\n4. **Include quantifiable results:** Where possible, include quantifiable results to demonstrate the impact of your work.\n5. **Keep the cover letter concise:** Aim for a length of around 3-4 paragraphs in the cover letter.\n6. **Add a statement about references:** Consider adding a statement, such as \"References available upon request,\" to the resume to save space.\n\n**Updated Resume and Cover Letter:**\n\n**Resume:**\n\n**Abdullahi Ahmad**\n**Machine Learning Engineer**\n\n**Contact Information:**\n\n- Email: [abdullahi.ahmad@email.com](mailto:abdullahi.ahmad@email.com)\n- Phone: 123-456-7890\n- LinkedIn: linkedin.com/in/abdullahi-ahmad\n\n**Summary:**\nHighly motivated and experienced Machine Learning Engineer with 3 years of experience in designing, developing, and deploying AI models using deep learning and NLP techniques. Proficient in cloud-based deployment and data analysis. Strong communication and presentation skills with experience in collaboration tools.\n\n**Technical Skills:**\n\n- **Machine Learning:**\n  - Deep Learning (TensorFlow, Keras)\n  - Natural Language Processing (NLP) (NLTK, spaCy)\n- **Cloud-based Deployment:**\n  - Cloud-based model deployment (AWS, Google Cloud)\n- **Programming Languages:**\n  - Python (NumPy, pandas, scikit-learn)\n  - R (for data analysis and visualization)\n- **Software Development:**\n  - Design, development, and deployment of AI models\n- **Data Analysis:**\n  - Data preprocessing (handling missing values, data normalization)\n  - Feature engineering (dimensionality reduction, feature selection)\n\n**Professional Experience:**\n\n**Machine Learning Engineer, ABC Corporation (2020-Present)**\n\n- Designed and developed AI models using deep learning and NLP techniques for text classification and sentiment analysis tasks\n- Deployed models on cloud platforms (AWS, Google Cloud) for scalability and reliability\n- Collaborated with cross-functional teams to integrate AI models into existing software applications\n- Conducted data analysis and feature engineering to improve model performance\n- Presented project results and recommendations to stakeholders using effective communication and presentation skills\n\n**Machine Learning Engineer, DEF Startups (2018-2020)**\n\n- Developed and deployed AI models using R and Python for data analysis and visualization tasks\n- Worked with data storage solutions (databases, data warehouses) to store and retrieve data\n- Utilized collaboration tools (Git, Jira) to manage projects and track progress\n- Contributed to the development of AI-powered chatbots using NLP techniques\n\n**Education:**\n\n- **Master of Science in Computer Science, XYZ University (2018)**\n- **Bachelor of Science in Computer Science, ABC University (2016)**\n\n**Certifications:**\n\n- **Certified Machine Learning Engineer, Machine Learning Council (2020)**\n- **Certified Data Scientist, Data Science Council (2019)**\n\n**References:**\nAvailable upon request.\n\n**Cover Letter:**\n\n[Today's Date: 28 March 2024]\n\n[Your Address: Jigawa State, Nigeria]\n\n[Email: [abdullahi.ahmad@email.com](mailto:abdullahi.ahmad@email.com)]\n[Phone: 123-456-7890]\n[LinkedIn: linkedin.com/in/abdullahi-ahmad]\n\n[Recipient's Name]\n[Recipient's Title]\nXYZ Tech Solutions\n[Company Address]\n\nDear [Recipient's Name],\n\nI am writing to express my strong interest in the Machine Learning Engineer position at XYZ Tech Solutions. As a highly motivated and experienced Machine Learning Engineer with a proven track record of designing, developing, and deploying AI models using deep learning and NLP techniques, I am confident that I would be an excellent fit for this role.\n\nWith over 3 years of experience in the field, I have developed a strong foundation in machine learning, cloud-based deployment, and data analysis. My expertise in deep learning using TensorFlow and Keras, as well as NLP using NLTK and spaCy, has enabled me to tackle complex problems and deliver high-quality solutions. My experience in cloud-based model deployment using AWS and Google Cloud has also allowed me to deploy models at scale and ensure reliability.\n\nIn my current role as a Machine Learning Engineer at ABC Corporation, I have had the opportunity to work on various projects, including text classification and sentiment analysis tasks. I have successfully deployed models on cloud platforms, collaborated with cross-functional teams, and presented project results to stakeholders. My experience in data analysis and feature engineering has also enabled me to improve model performance and drive business value.\n\nI am particularly drawn to this role at XYZ Tech Solutions because of the company's commitment to innovation and excellence. I am impressed by the company's cutting-edge approach to AI and machine learning, and I am excited about the opportunity to contribute to the development of real-world applications.\n\nIn addition to my technical skills and experience, I possess strong communication and presentation skills, which have been essential in my previous roles. I have a proven track record of working effectively with cross-functional teams and presenting complex technical information to non-technical stakeholders.\n\nI am confident that my skills, experience, and passion for machine learning make me an ideal candidate for this role. I would welcome the opportunity to discuss my application and how I can contribute to the success of XYZ Tech Solutions.\n\nThank you for considering my application. I look forward to the opportunity to discuss this further.\n\nSincerely,\n\nAbdullahi Ahmad\nMachine Learning Engineer\n[abdullahi.ahmad@email.com](mailto:abdullahi.ahmad@email.com)\n123-456-7890\nlinkedin.com/in/abdullahi-ahmad"
          },
          "metadata": {},
          "execution_count": 21
        }
      ]
    },
    {
      "cell_type": "code",
      "source": [],
      "metadata": {
        "id": "gjDytyLzFB4_"
      },
      "execution_count": null,
      "outputs": []
    }
  ],
  "metadata": {
    "accelerator": "GPU",
    "colab": {
      "gpuType": "T4",
      "provenance": []
    },
    "kernelspec": {
      "display_name": "Python 3",
      "name": "python3"
    },
    "language_info": {
      "name": "python"
    }
  },
  "nbformat": 4,
  "nbformat_minor": 0
}